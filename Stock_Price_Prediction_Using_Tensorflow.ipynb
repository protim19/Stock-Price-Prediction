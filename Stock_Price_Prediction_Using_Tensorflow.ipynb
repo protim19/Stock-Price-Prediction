{
  "nbformat": 4,
  "nbformat_minor": 0,
  "metadata": {
    "colab": {
      "provenance": []
    },
    "kernelspec": {
      "name": "python3",
      "display_name": "Python 3"
    },
    "language_info": {
      "name": "python"
    }
  },
  "cells": [
    {
      "cell_type": "code",
      "source": [
        "# Importing the Pandas Library for loading our dataset\n",
        "# Grab The Data Here - https://www.kaggle.com/tarunpaparaju/apple-aapl-historical-stock-data\n",
        "\n",
        "import pandas as pd\n",
        "\n",
        "df = pd.read_csv('/content/HistoricalQuotes.csv')\n",
        "df.head()"
      ],
      "metadata": {
        "colab": {
          "base_uri": "https://localhost:8080/",
          "height": 206
        },
        "id": "xzHEQ8awEwg9",
        "outputId": "db2c8235-3422-4269-ab27-5dccaf405354"
      },
      "execution_count": 1,
      "outputs": [
        {
          "output_type": "execute_result",
          "data": {
            "text/plain": [
              "         Date  Close/Last     Volume      Open      High       Low\n",
              "0  02/28/2020     $273.36  106721200   $257.26   $278.41   $256.37\n",
              "1  02/27/2020     $273.52   80151380    $281.1      $286   $272.96\n",
              "2  02/26/2020     $292.65   49678430   $286.53   $297.88    $286.5\n",
              "3  02/25/2020     $288.08   57668360   $300.95   $302.53   $286.13\n",
              "4  02/24/2020     $298.18   55548830   $297.26   $304.18   $289.23"
            ],
            "text/html": [
              "\n",
              "  <div id=\"df-73459f7c-1493-4f2a-9d4c-a7b18f69c236\" class=\"colab-df-container\">\n",
              "    <div>\n",
              "<style scoped>\n",
              "    .dataframe tbody tr th:only-of-type {\n",
              "        vertical-align: middle;\n",
              "    }\n",
              "\n",
              "    .dataframe tbody tr th {\n",
              "        vertical-align: top;\n",
              "    }\n",
              "\n",
              "    .dataframe thead th {\n",
              "        text-align: right;\n",
              "    }\n",
              "</style>\n",
              "<table border=\"1\" class=\"dataframe\">\n",
              "  <thead>\n",
              "    <tr style=\"text-align: right;\">\n",
              "      <th></th>\n",
              "      <th>Date</th>\n",
              "      <th>Close/Last</th>\n",
              "      <th>Volume</th>\n",
              "      <th>Open</th>\n",
              "      <th>High</th>\n",
              "      <th>Low</th>\n",
              "    </tr>\n",
              "  </thead>\n",
              "  <tbody>\n",
              "    <tr>\n",
              "      <th>0</th>\n",
              "      <td>02/28/2020</td>\n",
              "      <td>$273.36</td>\n",
              "      <td>106721200</td>\n",
              "      <td>$257.26</td>\n",
              "      <td>$278.41</td>\n",
              "      <td>$256.37</td>\n",
              "    </tr>\n",
              "    <tr>\n",
              "      <th>1</th>\n",
              "      <td>02/27/2020</td>\n",
              "      <td>$273.52</td>\n",
              "      <td>80151380</td>\n",
              "      <td>$281.1</td>\n",
              "      <td>$286</td>\n",
              "      <td>$272.96</td>\n",
              "    </tr>\n",
              "    <tr>\n",
              "      <th>2</th>\n",
              "      <td>02/26/2020</td>\n",
              "      <td>$292.65</td>\n",
              "      <td>49678430</td>\n",
              "      <td>$286.53</td>\n",
              "      <td>$297.88</td>\n",
              "      <td>$286.5</td>\n",
              "    </tr>\n",
              "    <tr>\n",
              "      <th>3</th>\n",
              "      <td>02/25/2020</td>\n",
              "      <td>$288.08</td>\n",
              "      <td>57668360</td>\n",
              "      <td>$300.95</td>\n",
              "      <td>$302.53</td>\n",
              "      <td>$286.13</td>\n",
              "    </tr>\n",
              "    <tr>\n",
              "      <th>4</th>\n",
              "      <td>02/24/2020</td>\n",
              "      <td>$298.18</td>\n",
              "      <td>55548830</td>\n",
              "      <td>$297.26</td>\n",
              "      <td>$304.18</td>\n",
              "      <td>$289.23</td>\n",
              "    </tr>\n",
              "  </tbody>\n",
              "</table>\n",
              "</div>\n",
              "    <div class=\"colab-df-buttons\">\n",
              "\n",
              "  <div class=\"colab-df-container\">\n",
              "    <button class=\"colab-df-convert\" onclick=\"convertToInteractive('df-73459f7c-1493-4f2a-9d4c-a7b18f69c236')\"\n",
              "            title=\"Convert this dataframe to an interactive table.\"\n",
              "            style=\"display:none;\">\n",
              "\n",
              "  <svg xmlns=\"http://www.w3.org/2000/svg\" height=\"24px\" viewBox=\"0 -960 960 960\">\n",
              "    <path d=\"M120-120v-720h720v720H120Zm60-500h600v-160H180v160Zm220 220h160v-160H400v160Zm0 220h160v-160H400v160ZM180-400h160v-160H180v160Zm440 0h160v-160H620v160ZM180-180h160v-160H180v160Zm440 0h160v-160H620v160Z\"/>\n",
              "  </svg>\n",
              "    </button>\n",
              "\n",
              "  <style>\n",
              "    .colab-df-container {\n",
              "      display:flex;\n",
              "      gap: 12px;\n",
              "    }\n",
              "\n",
              "    .colab-df-convert {\n",
              "      background-color: #E8F0FE;\n",
              "      border: none;\n",
              "      border-radius: 50%;\n",
              "      cursor: pointer;\n",
              "      display: none;\n",
              "      fill: #1967D2;\n",
              "      height: 32px;\n",
              "      padding: 0 0 0 0;\n",
              "      width: 32px;\n",
              "    }\n",
              "\n",
              "    .colab-df-convert:hover {\n",
              "      background-color: #E2EBFA;\n",
              "      box-shadow: 0px 1px 2px rgba(60, 64, 67, 0.3), 0px 1px 3px 1px rgba(60, 64, 67, 0.15);\n",
              "      fill: #174EA6;\n",
              "    }\n",
              "\n",
              "    .colab-df-buttons div {\n",
              "      margin-bottom: 4px;\n",
              "    }\n",
              "\n",
              "    [theme=dark] .colab-df-convert {\n",
              "      background-color: #3B4455;\n",
              "      fill: #D2E3FC;\n",
              "    }\n",
              "\n",
              "    [theme=dark] .colab-df-convert:hover {\n",
              "      background-color: #434B5C;\n",
              "      box-shadow: 0px 1px 3px 1px rgba(0, 0, 0, 0.15);\n",
              "      filter: drop-shadow(0px 1px 2px rgba(0, 0, 0, 0.3));\n",
              "      fill: #FFFFFF;\n",
              "    }\n",
              "  </style>\n",
              "\n",
              "    <script>\n",
              "      const buttonEl =\n",
              "        document.querySelector('#df-73459f7c-1493-4f2a-9d4c-a7b18f69c236 button.colab-df-convert');\n",
              "      buttonEl.style.display =\n",
              "        google.colab.kernel.accessAllowed ? 'block' : 'none';\n",
              "\n",
              "      async function convertToInteractive(key) {\n",
              "        const element = document.querySelector('#df-73459f7c-1493-4f2a-9d4c-a7b18f69c236');\n",
              "        const dataTable =\n",
              "          await google.colab.kernel.invokeFunction('convertToInteractive',\n",
              "                                                    [key], {});\n",
              "        if (!dataTable) return;\n",
              "\n",
              "        const docLinkHtml = 'Like what you see? Visit the ' +\n",
              "          '<a target=\"_blank\" href=https://colab.research.google.com/notebooks/data_table.ipynb>data table notebook</a>'\n",
              "          + ' to learn more about interactive tables.';\n",
              "        element.innerHTML = '';\n",
              "        dataTable['output_type'] = 'display_data';\n",
              "        await google.colab.output.renderOutput(dataTable, element);\n",
              "        const docLink = document.createElement('div');\n",
              "        docLink.innerHTML = docLinkHtml;\n",
              "        element.appendChild(docLink);\n",
              "      }\n",
              "    </script>\n",
              "  </div>\n",
              "\n",
              "\n",
              "<div id=\"df-11913c6f-aa15-43e0-b2b8-0975adc2ff7c\">\n",
              "  <button class=\"colab-df-quickchart\" onclick=\"quickchart('df-11913c6f-aa15-43e0-b2b8-0975adc2ff7c')\"\n",
              "            title=\"Suggest charts.\"\n",
              "            style=\"display:none;\">\n",
              "\n",
              "<svg xmlns=\"http://www.w3.org/2000/svg\" height=\"24px\"viewBox=\"0 0 24 24\"\n",
              "     width=\"24px\">\n",
              "    <g>\n",
              "        <path d=\"M19 3H5c-1.1 0-2 .9-2 2v14c0 1.1.9 2 2 2h14c1.1 0 2-.9 2-2V5c0-1.1-.9-2-2-2zM9 17H7v-7h2v7zm4 0h-2V7h2v10zm4 0h-2v-4h2v4z\"/>\n",
              "    </g>\n",
              "</svg>\n",
              "  </button>\n",
              "\n",
              "<style>\n",
              "  .colab-df-quickchart {\n",
              "    background-color: #E8F0FE;\n",
              "    border: none;\n",
              "    border-radius: 50%;\n",
              "    cursor: pointer;\n",
              "    display: none;\n",
              "    fill: #1967D2;\n",
              "    height: 32px;\n",
              "    padding: 0 0 0 0;\n",
              "    width: 32px;\n",
              "  }\n",
              "\n",
              "  .colab-df-quickchart:hover {\n",
              "    background-color: #E2EBFA;\n",
              "    box-shadow: 0px 1px 2px rgba(60, 64, 67, 0.3), 0px 1px 3px 1px rgba(60, 64, 67, 0.15);\n",
              "    fill: #174EA6;\n",
              "  }\n",
              "\n",
              "  [theme=dark] .colab-df-quickchart {\n",
              "    background-color: #3B4455;\n",
              "    fill: #D2E3FC;\n",
              "  }\n",
              "\n",
              "  [theme=dark] .colab-df-quickchart:hover {\n",
              "    background-color: #434B5C;\n",
              "    box-shadow: 0px 1px 3px 1px rgba(0, 0, 0, 0.15);\n",
              "    filter: drop-shadow(0px 1px 2px rgba(0, 0, 0, 0.3));\n",
              "    fill: #FFFFFF;\n",
              "  }\n",
              "</style>\n",
              "\n",
              "  <script>\n",
              "    async function quickchart(key) {\n",
              "      const charts = await google.colab.kernel.invokeFunction(\n",
              "          'suggestCharts', [key], {});\n",
              "    }\n",
              "    (() => {\n",
              "      let quickchartButtonEl =\n",
              "        document.querySelector('#df-11913c6f-aa15-43e0-b2b8-0975adc2ff7c button');\n",
              "      quickchartButtonEl.style.display =\n",
              "        google.colab.kernel.accessAllowed ? 'block' : 'none';\n",
              "    })();\n",
              "  </script>\n",
              "</div>\n",
              "    </div>\n",
              "  </div>\n"
            ]
          },
          "metadata": {},
          "execution_count": 1
        }
      ]
    },
    {
      "cell_type": "code",
      "source": [
        "df.shape"
      ],
      "metadata": {
        "colab": {
          "base_uri": "https://localhost:8080/"
        },
        "id": "cfK2zZ5ybnWk",
        "outputId": "49df2554-10f6-463b-892c-4903f78a8cb1"
      },
      "execution_count": 3,
      "outputs": [
        {
          "output_type": "execute_result",
          "data": {
            "text/plain": [
              "(2518, 6)"
            ]
          },
          "metadata": {},
          "execution_count": 3
        }
      ]
    },
    {
      "cell_type": "code",
      "source": [
        "data = df.reset_index()[' Close/Last'] # Make Sure You add a space\n",
        "data.head()"
      ],
      "metadata": {
        "colab": {
          "base_uri": "https://localhost:8080/"
        },
        "id": "Ap6KGVL7EwjS",
        "outputId": "a3b54e0b-1e7e-4054-b948-a9801ebac079"
      },
      "execution_count": 4,
      "outputs": [
        {
          "output_type": "execute_result",
          "data": {
            "text/plain": [
              "0     $273.36\n",
              "1     $273.52\n",
              "2     $292.65\n",
              "3     $288.08\n",
              "4     $298.18\n",
              "Name:  Close/Last, dtype: object"
            ]
          },
          "metadata": {},
          "execution_count": 4
        }
      ]
    },
    {
      "cell_type": "code",
      "source": [
        "df3 = data.reindex(index=data.index[::-1])\n",
        "df3.head()"
      ],
      "metadata": {
        "colab": {
          "base_uri": "https://localhost:8080/"
        },
        "id": "6wWNG71fEwld",
        "outputId": "c65b85c2-76fc-45ca-feba-c7850792bc5e"
      },
      "execution_count": 5,
      "outputs": [
        {
          "output_type": "execute_result",
          "data": {
            "text/plain": [
              "2517     $29.8557\n",
              "2516     $29.8357\n",
              "2515     $29.9043\n",
              "2514     $30.1014\n",
              "2513     $31.2786\n",
              "Name:  Close/Last, dtype: object"
            ]
          },
          "metadata": {},
          "execution_count": 5
        }
      ]
    },
    {
      "cell_type": "code",
      "source": [
        "df2 = []\n",
        "\n",
        "for i in data:\n",
        "    i = i[2:]\n",
        "    i = float(i)\n",
        "    df2.append(i)\n",
        "\n",
        "df2.reverse()\n",
        "\n",
        "df1 = pd.DataFrame(df2)[0]\n",
        "df1.head()"
      ],
      "metadata": {
        "colab": {
          "base_uri": "https://localhost:8080/"
        },
        "id": "ehDyjvLcFvq3",
        "outputId": "f0628988-a0bb-497a-f817-15b66793402e"
      },
      "execution_count": 6,
      "outputs": [
        {
          "output_type": "execute_result",
          "data": {
            "text/plain": [
              "0    29.8557\n",
              "1    29.8357\n",
              "2    29.9043\n",
              "3    30.1014\n",
              "4    31.2786\n",
              "Name: 0, dtype: float64"
            ]
          },
          "metadata": {},
          "execution_count": 6
        }
      ]
    },
    {
      "cell_type": "code",
      "source": [
        "# Using the Matplotlib Library for visualizing our time-series data\n",
        "\n",
        "import matplotlib.pyplot as plt\n",
        "\n",
        "plt.title(\"Data Plot\")\n",
        "plt.xlabel(\"Index\")\n",
        "plt.ylabel(\"Data\")\n",
        "plt.plot(df1)"
      ],
      "metadata": {
        "colab": {
          "base_uri": "https://localhost:8080/",
          "height": 489
        },
        "id": "umkMS8VeEwnx",
        "outputId": "12518846-b138-457e-9cf1-cecd628fb0ac"
      },
      "execution_count": 7,
      "outputs": [
        {
          "output_type": "execute_result",
          "data": {
            "text/plain": [
              "[<matplotlib.lines.Line2D at 0x7e6a2f8914b0>]"
            ]
          },
          "metadata": {},
          "execution_count": 7
        },
        {
          "output_type": "display_data",
          "data": {
            "text/plain": [
              "<Figure size 640x480 with 1 Axes>"
            ],
            "image/png": "[encoded data removed]"
          },
          "metadata": {}
        }
      ]
    },
    {
      "cell_type": "code",
      "source": [
        "import numpy as np\n",
        "from sklearn.preprocessing import MinMaxScaler\n",
        "\n",
        "scaler = MinMaxScaler(feature_range=(0,1))\n",
        "df1 = scaler.fit_transform(np.array(df1).reshape(-1,1))\n",
        "df1"
      ],
      "metadata": {
        "colab": {
          "base_uri": "https://localhost:8080/"
        },
        "id": "DZC3QS-gEwqR",
        "outputId": "583cabde-57f3-4238-bb0c-fcbe7092ebce"
      },
      "execution_count": 8,
      "outputs": [
        {
          "output_type": "execute_result",
          "data": {
            "text/plain": [
              "array([[6.72575693e-05],\n",
              "       [0.00000000e+00],\n",
              "       [2.30693463e-04],\n",
              "       ...,\n",
              "       [8.83812549e-01],\n",
              "       [8.19480684e-01],\n",
              "       [8.18942624e-01]])"
            ]
          },
          "metadata": {},
          "execution_count": 8
        }
      ]
    },
    {
      "cell_type": "code",
      "source": [
        "from sklearn.model_selection import train_test_split\n",
        "\n",
        "X_train, X_test = train_test_split(df1, test_size=0.20, shuffle=False)"
      ],
      "metadata": {
        "id": "b2vzcjOZEwsl"
      },
      "execution_count": 9,
      "outputs": []
    },
    {
      "cell_type": "code",
      "source": [
        "plt.title(\"Data Plot\")\n",
        "plt.xlabel(\"Index\")\n",
        "plt.ylabel(\"Data\")\n",
        "plt.plot(X_train)"
      ],
      "metadata": {
        "colab": {
          "base_uri": "https://localhost:8080/",
          "height": 489
        },
        "id": "D0k0ndbFEwu0",
        "outputId": "d3837e53-4c43-4ae3-9ac9-cf416e2d49ff"
      },
      "execution_count": 10,
      "outputs": [
        {
          "output_type": "execute_result",
          "data": {
            "text/plain": [
              "[<matplotlib.lines.Line2D at 0x7e6a258c8f70>]"
            ]
          },
          "metadata": {},
          "execution_count": 10
        },
        {
          "output_type": "display_data",
          "data": {
            "text/plain": [
              "<Figure size 640x480 with 1 Axes>"
            ],
            "image/png": "[encoded data removed]"
          },
          "metadata": {}
        }
      ]
    },
    {
      "cell_type": "code",
      "source": [
        "plt.title(\"Data Plot\")\n",
        "plt.xlabel(\"Index\")\n",
        "plt.ylabel(\"Data\")\n",
        "plt.plot(X_test)"
      ],
      "metadata": {
        "colab": {
          "base_uri": "https://localhost:8080/",
          "height": 489
        },
        "id": "mg1z9jZUExAc",
        "outputId": "53d3a8d2-b3f3-46f4-c5ab-aed0d6a1b68a"
      },
      "execution_count": 11,
      "outputs": [
        {
          "output_type": "execute_result",
          "data": {
            "text/plain": [
              "[<matplotlib.lines.Line2D at 0x7e6a25947a00>]"
            ]
          },
          "metadata": {},
          "execution_count": 11
        },
        {
          "output_type": "display_data",
          "data": {
            "text/plain": [
              "<Figure size 640x480 with 1 Axes>"
            ],
            "image/png": "[encoded data removed]"
          },
          "metadata": {}
        }
      ]
    },
    {
      "cell_type": "code",
      "source": [
        "X_train_data = []\n",
        "Y_train_data = []\n",
        "X_test_data = []\n",
        "Y_test_data = []\n",
        "\n",
        "train_len = len(X_train)\n",
        "test_len = len(X_test)\n",
        "\n",
        "# Create the training dataset\n",
        "for i in range(train_len-101):\n",
        "    a = X_train[i:(i+100), 0]\n",
        "    X_train_data.append(a)\n",
        "    Y_train_data.append(X_train[i + 100, 0])\n",
        "\n",
        "# Create the test dataset\n",
        "for j in range(test_len-101):\n",
        "    b = X_test[j:(j+100), 0]\n",
        "    X_test_data.append(a)\n",
        "    Y_test_data.append(X_test[j + 100, 0])\n",
        "\n",
        "X_train_data = np.array(X_train_data)\n",
        "Y_train_data = np.array(Y_train_data)\n",
        "X_test_data = np.array(X_test_data)\n",
        "Y_test_data = np.array(Y_test_data)"
      ],
      "metadata": {
        "id": "Xis1Vx_wExFE"
      },
      "execution_count": 12,
      "outputs": []
    },
    {
      "cell_type": "code",
      "source": [
        "X_train_data[0]\n",
        "Y_train_data[0]"
      ],
      "metadata": {
        "colab": {
          "base_uri": "https://localhost:8080/"
        },
        "id": "yJcsiDvRExHx",
        "outputId": "53f5ef28-c51e-4d10-ea83-02dc786e143b"
      },
      "execution_count": 13,
      "outputs": [
        {
          "output_type": "execute_result",
          "data": {
            "text/plain": [
              "0.024104103955989345"
            ]
          },
          "metadata": {},
          "execution_count": 13
        }
      ]
    },
    {
      "cell_type": "code",
      "source": [
        "X_train_data[1]\n",
        "Y_train_data[1]"
      ],
      "metadata": {
        "colab": {
          "base_uri": "https://localhost:8080/"
        },
        "id": "WyMEaMCpExKJ",
        "outputId": "52ba82e9-4459-4a03-c1d6-7721cf5b875f"
      },
      "execution_count": 14,
      "outputs": [
        {
          "output_type": "execute_result",
          "data": {
            "text/plain": [
              "0.024544304746736592"
            ]
          },
          "metadata": {},
          "execution_count": 14
        }
      ]
    },
    {
      "cell_type": "code",
      "source": [
        "### Printing the training and testing shapes\n",
        "\n",
        "print(\"Training size of data = \", X_train_data.shape)\n",
        "print(\"Training size of labels = \", Y_train_data.shape)\n",
        "print(\"Training size of data = \", X_test_data.shape)\n",
        "print(\"Training size of labels = \", Y_test_data.shape)"
      ],
      "metadata": {
        "colab": {
          "base_uri": "https://localhost:8080/"
        },
        "id": "QkscPwEcFS7A",
        "outputId": "b7c95883-14db-4ea0-be1e-70ffc7ac9993"
      },
      "execution_count": 15,
      "outputs": [
        {
          "output_type": "stream",
          "name": "stdout",
          "text": [
            "Training size of data =  (1913, 100)\n",
            "Training size of labels =  (1913,)\n",
            "Training size of data =  (403, 100)\n",
            "Training size of labels =  (403,)\n"
          ]
        }
      ]
    },
    {
      "cell_type": "code",
      "source": [
        "### Converting the training and testing data shapes into a 3-dimensional space to make it suitable for LSTMs\n",
        "\n",
        "X_train_data = X_train_data.reshape(1913, 100, 1)\n",
        "X_test_data = X_test_data.reshape(403, 100, 1)\n",
        "\n",
        "print(X_train_data.shape)\n",
        "print(X_test_data.shape)"
      ],
      "metadata": {
        "colab": {
          "base_uri": "https://localhost:8080/"
        },
        "id": "OBe3hmBAFS9Z",
        "outputId": "00597970-32d7-4a51-8903-cbcbe8f6c8f5"
      },
      "execution_count": 16,
      "outputs": [
        {
          "output_type": "stream",
          "name": "stdout",
          "text": [
            "(1913, 100, 1)\n",
            "(403, 100, 1)\n"
          ]
        }
      ]
    },
    {
      "cell_type": "code",
      "source": [
        "from tensorflow.keras.models import Sequential\n",
        "from tensorflow.keras.layers import Dense\n",
        "from tensorflow.keras.layers import LSTM\n",
        "\n",
        "# Build The Architecture\n",
        "\n",
        "model=Sequential()\n",
        "model.add(LSTM(100,return_sequences=True,input_shape=(100,1)))\n",
        "model.add(LSTM(100,return_sequences=True))\n",
        "model.add(LSTM(100))\n",
        "model.add(Dense(1))"
      ],
      "metadata": {
        "id": "sXnJkcA0FS_k"
      },
      "execution_count": 17,
      "outputs": []
    },
    {
      "cell_type": "code",
      "source": [
        "model.summary()"
      ],
      "metadata": {
        "colab": {
          "base_uri": "https://localhost:8080/"
        },
        "id": "eX0YiyT6FTCB",
        "outputId": "710cb1f2-cf6f-4ef8-b3d9-0ef41a2e6cbc"
      },
      "execution_count": 18,
      "outputs": [
        {
          "output_type": "stream",
          "name": "stdout",
          "text": [
            "Model: \"sequential\"\n",
            "_________________________________________________________________\n",
            " Layer (type)                Output Shape              Param #   \n",
            "=================================================================\n",
            " lstm (LSTM)                 (None, 100, 100)          40800     \n",
            "                                                                 \n",
            " lstm_1 (LSTM)               (None, 100, 100)          80400     \n",
            "                                                                 \n",
            " lstm_2 (LSTM)               (None, 100)               80400     \n",
            "                                                                 \n",
            " dense (Dense)               (None, 1)                 101       \n",
            "                                                                 \n",
            "=================================================================\n",
            "Total params: 201,701\n",
            "Trainable params: 201,701\n",
            "Non-trainable params: 0\n",
            "_________________________________________________________________\n"
          ]
        }
      ]
    },
    {
      "cell_type": "code",
      "source": [
        "# Plot the Model\n",
        "\n",
        "from tensorflow import keras\n",
        "from keras.utils.vis_utils import plot_model\n",
        "\n",
        "keras.utils.plot_model(model, to_file='model.png', show_layer_names=True)"
      ],
      "metadata": {
        "colab": {
          "base_uri": "https://localhost:8080/",
          "height": 466
        },
        "id": "NKx6qBfpFTED",
        "outputId": "5e6deeae-3de3-4644-ee05-5ed18f6e9888"
      },
      "execution_count": 19,
      "outputs": [
        {
          "output_type": "execute_result",
          "data": {
            "image/png": "[encoded data removed]",
            "text/plain": [
              "<IPython.core.display.Image object>"
            ]
          },
          "metadata": {},
          "execution_count": 19
        }
      ]
    },
    {
      "cell_type": "code",
      "source": [
        "# Initializing the callbacks\n",
        "\n",
        "from tensorflow.keras.callbacks import ModelCheckpoint\n",
        "from tensorflow.keras.callbacks import TensorBoard\n",
        "\n",
        "checkpoint = ModelCheckpoint(\"checkpoint1.h5\", monitor='val_loss', verbose=1,\n",
        "                              save_best_only=True, mode='auto')\n",
        "\n",
        "logdir='logs1'\n",
        "tensorboard_Visualization = TensorBoard(log_dir=logdir)"
      ],
      "metadata": {
        "id": "GGJIcnkfFTGl"
      },
      "execution_count": 20,
      "outputs": []
    },
    {
      "cell_type": "code",
      "source": [
        "# Model Compilation\n",
        "\n",
        "model.compile(loss='mean_squared_error', optimizer='adam')"
      ],
      "metadata": {
        "id": "aEUkxyYxFTI0"
      },
      "execution_count": 21,
      "outputs": []
    },
    {
      "cell_type": "code",
      "source": [
        "# Training The Model\n",
        "\n",
        "model.fit(X_train_data,\n",
        "          Y_train_data,\n",
        "          validation_data=(X_test_data, Y_test_data),\n",
        "          epochs=20,\n",
        "          batch_size=32,\n",
        "          verbose=1,\n",
        "          callbacks=[checkpoint, tensorboard_Visualization])"
      ],
      "metadata": {
        "colab": {
          "base_uri": "https://localhost:8080/"
        },
        "id": "l5ghb1GkFTK3",
        "outputId": "d3c185eb-df31-44c2-9dc3-ba4c11a38dd9"
      },
      "execution_count": 22,
      "outputs": [
        {
          "output_type": "stream",
          "name": "stdout",
          "text": [
            "Epoch 1/20\n",
            "60/60 [==============================] - ETA: 0s - loss: 0.0027\n",
            "Epoch 1: val_loss improved from inf to 0.05182, saving model to checkpoint1.h5\n",
            "60/60 [==============================] - 15s 182ms/step - loss: 0.0027 - val_loss: 0.0518\n",
            "Epoch 2/20\n",
            "60/60 [==============================] - ETA: 0s - loss: 2.2939e-04\n",
            "Epoch 2: val_loss improved from 0.05182 to 0.04502, saving model to checkpoint1.h5\n",
            "60/60 [==============================] - 10s 168ms/step - loss: 2.2939e-04 - val_loss: 0.0450\n",
            "Epoch 3/20\n",
            "60/60 [==============================] - ETA: 0s - loss: 2.7063e-04\n",
            "Epoch 3: val_loss did not improve from 0.04502\n",
            "60/60 [==============================] - 10s 168ms/step - loss: 2.7063e-04 - val_loss: 0.0475\n",
            "Epoch 4/20\n",
            "60/60 [==============================] - ETA: 0s - loss: 1.8813e-04\n",
            "Epoch 4: val_loss did not improve from 0.04502\n",
            "60/60 [==============================] - 10s 166ms/step - loss: 1.8813e-04 - val_loss: 0.0502\n",
            "Epoch 5/20\n",
            "60/60 [==============================] - ETA: 0s - loss: 1.8337e-04\n",
            "Epoch 5: val_loss did not improve from 0.04502\n",
            "60/60 [==============================] - 10s 166ms/step - loss: 1.8337e-04 - val_loss: 0.0547\n",
            "Epoch 6/20\n",
            "60/60 [==============================] - ETA: 0s - loss: 1.7636e-04\n",
            "Epoch 6: val_loss did not improve from 0.04502\n",
            "60/60 [==============================] - 10s 159ms/step - loss: 1.7636e-04 - val_loss: 0.0489\n",
            "Epoch 7/20\n",
            "60/60 [==============================] - ETA: 0s - loss: 1.7642e-04\n",
            "Epoch 7: val_loss did not improve from 0.04502\n",
            "60/60 [==============================] - 10s 165ms/step - loss: 1.7642e-04 - val_loss: 0.0478\n",
            "Epoch 8/20\n",
            "60/60 [==============================] - ETA: 0s - loss: 1.6306e-04\n",
            "Epoch 8: val_loss did not improve from 0.04502\n",
            "60/60 [==============================] - 10s 168ms/step - loss: 1.6306e-04 - val_loss: 0.0516\n",
            "Epoch 9/20\n",
            "60/60 [==============================] - ETA: 0s - loss: 1.3854e-04\n",
            "Epoch 9: val_loss did not improve from 0.04502\n",
            "60/60 [==============================] - 10s 167ms/step - loss: 1.3854e-04 - val_loss: 0.0505\n",
            "Epoch 10/20\n",
            "60/60 [==============================] - ETA: 0s - loss: 1.4273e-04\n",
            "Epoch 10: val_loss did not improve from 0.04502\n",
            "60/60 [==============================] - 10s 169ms/step - loss: 1.4273e-04 - val_loss: 0.0545\n",
            "Epoch 11/20\n",
            "60/60 [==============================] - ETA: 0s - loss: 2.2264e-04\n",
            "Epoch 11: val_loss did not improve from 0.04502\n",
            "60/60 [==============================] - 10s 169ms/step - loss: 2.2264e-04 - val_loss: 0.0468\n",
            "Epoch 12/20\n",
            "60/60 [==============================] - ETA: 0s - loss: 1.2217e-04\n",
            "Epoch 12: val_loss improved from 0.04502 to 0.04449, saving model to checkpoint1.h5\n",
            "60/60 [==============================] - 10s 171ms/step - loss: 1.2217e-04 - val_loss: 0.0445\n",
            "Epoch 13/20\n",
            "60/60 [==============================] - ETA: 0s - loss: 1.2304e-04\n",
            "Epoch 13: val_loss improved from 0.04449 to 0.04339, saving model to checkpoint1.h5\n",
            "60/60 [==============================] - 9s 157ms/step - loss: 1.2304e-04 - val_loss: 0.0434\n",
            "Epoch 14/20\n",
            "60/60 [==============================] - ETA: 0s - loss: 1.1227e-04\n",
            "Epoch 14: val_loss improved from 0.04339 to 0.04088, saving model to checkpoint1.h5\n",
            "60/60 [==============================] - 10s 168ms/step - loss: 1.1227e-04 - val_loss: 0.0409\n",
            "Epoch 15/20\n",
            "60/60 [==============================] - ETA: 0s - loss: 1.3778e-04\n",
            "Epoch 15: val_loss did not improve from 0.04088\n",
            "60/60 [==============================] - 10s 167ms/step - loss: 1.3778e-04 - val_loss: 0.0423\n",
            "Epoch 16/20\n",
            "60/60 [==============================] - ETA: 0s - loss: 1.0080e-04\n",
            "Epoch 16: val_loss improved from 0.04088 to 0.03826, saving model to checkpoint1.h5\n",
            "60/60 [==============================] - 10s 168ms/step - loss: 1.0080e-04 - val_loss: 0.0383\n",
            "Epoch 17/20\n",
            "60/60 [==============================] - ETA: 0s - loss: 1.0037e-04\n",
            "Epoch 17: val_loss did not improve from 0.03826\n",
            "60/60 [==============================] - 10s 167ms/step - loss: 1.0037e-04 - val_loss: 0.0428\n",
            "Epoch 18/20\n",
            "60/60 [==============================] - ETA: 0s - loss: 1.0592e-04\n",
            "Epoch 18: val_loss did not improve from 0.03826\n",
            "60/60 [==============================] - 10s 167ms/step - loss: 1.0592e-04 - val_loss: 0.0399\n",
            "Epoch 19/20\n",
            "60/60 [==============================] - ETA: 0s - loss: 1.0777e-04\n",
            "Epoch 19: val_loss did not improve from 0.03826\n",
            "60/60 [==============================] - 9s 156ms/step - loss: 1.0777e-04 - val_loss: 0.0403\n",
            "Epoch 20/20\n",
            "60/60 [==============================] - ETA: 0s - loss: 9.9136e-05\n",
            "Epoch 20: val_loss improved from 0.03826 to 0.03823, saving model to checkpoint1.h5\n",
            "60/60 [==============================] - 10s 164ms/step - loss: 9.9136e-05 - val_loss: 0.0382\n"
          ]
        },
        {
          "output_type": "execute_result",
          "data": {
            "text/plain": [
              "<keras.callbacks.History at 0x7e69c9e1a6b0>"
            ]
          },
          "metadata": {},
          "execution_count": 22
        }
      ]
    },
    {
      "cell_type": "code",
      "source": [
        "train_predict = model.predict(X_train_data)\n",
        "test_predict = model.predict(X_test_data)\n",
        "\n",
        "# Transform back to original form\n",
        "train_predict = scaler.inverse_transform(train_predict)\n",
        "test_predict = scaler.inverse_transform(test_predict)"
      ],
      "metadata": {
        "colab": {
          "base_uri": "https://localhost:8080/"
        },
        "id": "aBPWwjIcGNFw",
        "outputId": "dc746005-6121-4f28-f88b-985d63b6818b"
      },
      "execution_count": 23,
      "outputs": [
        {
          "output_type": "stream",
          "name": "stdout",
          "text": [
            "60/60 [==============================] - 3s 42ms/step\n",
            "13/13 [==============================] - 1s 41ms/step\n"
          ]
        }
      ]
    },
    {
      "cell_type": "code",
      "source": [
        "# Calculate RMSE performance metrics for train and test data\n",
        "\n",
        "import math\n",
        "from sklearn.metrics import mean_squared_error\n",
        "\n",
        "print(\"Train MSE = \", math.sqrt(mean_squared_error(Y_train_data, train_predict)))\n",
        "print(\"Test MSE = \", math.sqrt(mean_squared_error(Y_test_data, test_predict)))"
      ],
      "metadata": {
        "colab": {
          "base_uri": "https://localhost:8080/"
        },
        "id": "3JmvRpBuGNID",
        "outputId": "275997a3-256f-47e7-b69d-be76c39fd3dd"
      },
      "execution_count": 24,
      "outputs": [
        {
          "output_type": "stream",
          "name": "stdout",
          "text": [
            "Train MSE =  101.06077323929732\n",
            "Test MSE =  177.48364409966305\n"
          ]
        }
      ]
    },
    {
      "cell_type": "code",
      "source": [
        "### Plotting\n",
        "# shift train predictions for plotting\n",
        "look_back=100\n",
        "trainPredictPlot = np.empty_like(df1)\n",
        "trainPredictPlot[:, :] = np.nan\n",
        "trainPredictPlot[look_back:len(train_predict)+look_back, :] = train_predict\n",
        "# shift test predictions for plotting\n",
        "testPredictPlot = np.empty_like(df1)\n",
        "testPredictPlot[:, :] = np.nan\n",
        "testPredictPlot[len(train_predict)+(look_back*2)+1:len(df1)-1, :] = test_predict\n",
        "# plot baseline and predictions\n",
        "plt.plot(scaler.inverse_transform(df1))\n",
        "plt.plot(trainPredictPlot)\n",
        "plt.plot(testPredictPlot)\n",
        "plt.show()"
      ],
      "metadata": {
        "id": "O0g_oV-8GNKf",
        "colab": {
          "base_uri": "https://localhost:8080/",
          "height": 430
        },
        "outputId": "1498ef6b-682a-4857-d20b-4136199f94a6"
      },
      "execution_count": 28,
      "outputs": [
        {
          "output_type": "display_data",
          "data": {
            "text/plain": [
              "<Figure size 640x480 with 1 Axes>"
            ],
            "image/png": "[encoded data removed]"
          },
          "metadata": {}
        }
      ]
    },
    {
      "cell_type": "code",
      "source": [],
      "metadata": {
        "id": "l7Sv-wazFTNX"
      },
      "execution_count": null,
      "outputs": []
    },
    {
      "cell_type": "code",
      "source": [],
      "metadata": {
        "id": "zbhgXG8-FTQu"
      },
      "execution_count": null,
      "outputs": []
    }
  ]
}